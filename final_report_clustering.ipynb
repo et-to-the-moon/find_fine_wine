{
 "cells": [
  {
   "attachments": {},
   "cell_type": "markdown",
   "id": "8b749aff",
   "metadata": {},
   "source": [
    "# Find Fine Wine\n",
    "- How can you dine without some fine wine?"
   ]
  },
  {
   "attachments": {},
   "cell_type": "markdown",
   "id": "d80a8711",
   "metadata": {},
   "source": [
    "## Goal\n",
    "* Discover drivers of wine quality\n",
    "* Use drivers to develop clusters or groupings\n",
    "* Use drivers and clusters to develop a machine learning model to predict wine quality"
   ]
  },
  {
   "attachments": {},
   "cell_type": "markdown",
   "id": "d5804993",
   "metadata": {},
   "source": [
    "## Imports"
   ]
  },
  {
   "cell_type": "code",
   "execution_count": 1,
   "id": "5d961e04",
   "metadata": {},
   "outputs": [],
   "source": [
    "# local imports\n",
    "import wrangle as w\n",
    "import explore as e"
   ]
  },
  {
   "attachments": {},
   "cell_type": "markdown",
   "id": "e30c1704",
   "metadata": {},
   "source": [
    "### Acquire\n",
    "\n",
    "- Data acquired from data.world\n",
    "- Data initially acquired on 23 May 2023\n",
    "- It contained 6497 rows and 13 columns before cleaning\n",
    "- Each row represents a red or white variant of the Portuguese \"Vinho Verde\" wine\n",
    "- Each column represents a physicochemical property of the wine\n",
    "- Quality (target) is the median of at least 3 evaluations made by wine experts from 0 (very bad) to 10 (very excellent)"
   ]
  },
  {
   "attachments": {},
   "cell_type": "markdown",
   "id": "7c17a39a",
   "metadata": {},
   "source": [
    "### Prepare\n",
    "\n",
    "- Identify and handle Nulls\n",
    "    - No Nulls\n",
    "- Renamed columns for readability\n",
    "- Verified data types\n",
    "- Handle outliers\n",
    "    - residual sugar < 33\n",
    "    - free sulfur dioxide < 280\n",
    "    - chlorides < 0.21\n",
    "- Create custom features\n",
    "- Encode categorical variables\n",
    "- Split data into Train, Validate, Test (approx. 60/20/20)\n",
    "- Scaled using Standard Scaler for clustering and modeling"
   ]
  },
  {
   "cell_type": "code",
   "execution_count": null,
   "id": "8b72c58c",
   "metadata": {},
   "outputs": [],
   "source": [
    "# acquire, clean, and prepare the data\n",
    "df = w.wrangle_wine()\n",
    "\n",
    "# split into train, validate, and test\n",
    "train, validate, test = w.split_data(df)"
   ]
  },
  {
   "attachments": {},
   "cell_type": "markdown",
   "id": "644f1ba9",
   "metadata": {},
   "source": [
    "#### A brief look at the data"
   ]
  },
  {
   "cell_type": "code",
   "execution_count": null,
   "id": "f401dafe",
   "metadata": {},
   "outputs": [],
   "source": [
    "# taking a peek\n",
    "train.head()"
   ]
  },
  {
   "attachments": {},
   "cell_type": "markdown",
   "id": "865016ec",
   "metadata": {},
   "source": [
    "#### Quality (Target) Distribution"
   ]
  },
  {
   "cell_type": "code",
   "execution_count": null,
   "id": "d54355c6",
   "metadata": {},
   "outputs": [],
   "source": [
    "# target distribution\n",
    "e.dist(train)"
   ]
  },
  {
   "attachments": {},
   "cell_type": "markdown",
   "id": "5b1926d4",
   "metadata": {},
   "source": [
    "## Explore\n",
    "- Is there a correlation between ??? and quality?"
   ]
  },
  {
   "attachments": {},
   "cell_type": "markdown",
   "id": "b7c8c8c9",
   "metadata": {},
   "source": [
    "### Is there a correlation between ??? and quality?\n",
    "* $H_0$: There is **NO** correlation between ??? and quality\n",
    "* $H_a$: There is a correlation between ??? and quality\n",
    "* Continuous (???) vs Continuous (quality) = $Spearman's R$\n",
    "    - $r$ = \n",
    "    - $p$ = \n",
    "* `???` is correlated with `quality`"
   ]
  },
  {
   "cell_type": "code",
   "execution_count": null,
   "id": "4870be0e",
   "metadata": {},
   "outputs": [],
   "source": [
    "# explore ??? and quality\n"
   ]
  },
  {
   "attachments": {},
   "cell_type": "markdown",
   "id": "135e0d69",
   "metadata": {},
   "source": [
    "**With an alpha of 0.05 (confidence 95%) the p-value is ??? than alpha. Therefore, evidence suggests that ??? and quality are correlated with each other. I believe that using `???` in the modeling could have a positive impact.**"
   ]
  },
  {
   "attachments": {},
   "cell_type": "markdown",
   "id": "ea09f3ac",
   "metadata": {},
   "source": [
    "## Exploration Summary \n",
    "- ???"
   ]
  },
  {
   "attachments": {},
   "cell_type": "markdown",
   "id": "0581585a",
   "metadata": {},
   "source": [
    "### Features for Modeling\n",
    "- Features that will be used:\n",
    "    - quality (target)\n",
    "- Some features that may be useful:\n",
    "    - ???"
   ]
  },
  {
   "attachments": {},
   "cell_type": "markdown",
   "id": "e0c9a146",
   "metadata": {},
   "source": [
    "## Modeling\n",
    "- RMSE will be the evaluation metric\n",
    "- Target is quality\n",
    "- Using mean of the quality as baseline\n",
    "    - ??? will be the baseline\n",
    "- Features scaled using Standard Scaler\n",
    "- Models will be developed using a few different types, various features, and various hyperparameter configurations\n",
    "    - Linear Regression\n",
    "    - Polynomial Features through Linear Regression\n",
    "    - Lasso Lars\n",
    "    - Tweedie Regressor (GLM)\n",
    "- Models will be evaluated on Train and Validate\n",
    "- Best performing model will only be evaluated on Test"
   ]
  },
  {
   "cell_type": "code",
   "execution_count": null,
   "id": "775c5493",
   "metadata": {},
   "outputs": [],
   "source": [
    "# split into X and y\n",
    "\n",
    "\n",
    "# standard scaler\n"
   ]
  },
  {
   "cell_type": "code",
   "execution_count": null,
   "id": "af0abc91",
   "metadata": {},
   "outputs": [],
   "source": [
    "# get baseline\n"
   ]
  },
  {
   "attachments": {},
   "cell_type": "markdown",
   "id": "cfe02938",
   "metadata": {},
   "source": [
    "### Best 4 Model Configurations"
   ]
  },
  {
   "attachments": {},
   "cell_type": "markdown",
   "id": "fb585bb3",
   "metadata": {},
   "source": [
    "#### Linear Regression"
   ]
  },
  {
   "cell_type": "code",
   "execution_count": null,
   "id": "02769804",
   "metadata": {},
   "outputs": [],
   "source": [
    "# linear regression results\n"
   ]
  },
  {
   "attachments": {},
   "cell_type": "markdown",
   "id": "4268498a",
   "metadata": {},
   "source": [
    "#### Polynomial Features"
   ]
  },
  {
   "cell_type": "code",
   "execution_count": null,
   "id": "ed3bb167",
   "metadata": {},
   "outputs": [],
   "source": [
    "# polynomial features results\n"
   ]
  },
  {
   "attachments": {},
   "cell_type": "markdown",
   "id": "708e98e8",
   "metadata": {},
   "source": [
    "#### Lasso Lars"
   ]
  },
  {
   "cell_type": "code",
   "execution_count": null,
   "id": "18f90d2b",
   "metadata": {},
   "outputs": [],
   "source": [
    "# lasso lars results\n"
   ]
  },
  {
   "attachments": {},
   "cell_type": "markdown",
   "id": "7052265f",
   "metadata": {},
   "source": [
    "#### Tweedie Regressor"
   ]
  },
  {
   "cell_type": "code",
   "execution_count": null,
   "id": "ce9622f3",
   "metadata": {},
   "outputs": [],
   "source": [
    "# tweedie results\n"
   ]
  },
  {
   "attachments": {},
   "cell_type": "markdown",
   "id": "8f50e93d",
   "metadata": {},
   "source": [
    "### Best to Test\n",
    "- ???"
   ]
  },
  {
   "cell_type": "code",
   "execution_count": null,
   "id": "8356a271",
   "metadata": {},
   "outputs": [],
   "source": [
    "# best model eval with test data\n"
   ]
  },
  {
   "attachments": {},
   "cell_type": "markdown",
   "id": "d6a7f853",
   "metadata": {},
   "source": [
    "#### How does it compare?"
   ]
  },
  {
   "cell_type": "code",
   "execution_count": null,
   "id": "c80d8671",
   "metadata": {},
   "outputs": [],
   "source": [
    "# plot predictions vs actual on test\n"
   ]
  },
  {
   "attachments": {},
   "cell_type": "markdown",
   "id": "e74009ae",
   "metadata": {},
   "source": [
    "### Modeling Wrap Up\n",
    "- ???"
   ]
  },
  {
   "attachments": {},
   "cell_type": "markdown",
   "id": "5f0c3671",
   "metadata": {},
   "source": [
    "## Conclusion\n",
    "\n",
    "### Takeaways and Key Findings\n",
    "- ???\n",
    "\n",
    "### Recommendations and Next Steps\n",
    "- ???"
   ]
  }
 ],
 "metadata": {
  "kernelspec": {
   "display_name": "Python 3 (ipykernel)",
   "language": "python",
   "name": "python3"
  },
  "language_info": {
   "codemirror_mode": {
    "name": "ipython",
    "version": 3
   },
   "file_extension": ".py",
   "mimetype": "text/x-python",
   "name": "python",
   "nbconvert_exporter": "python",
   "pygments_lexer": "ipython3",
   "version": "3.9.13"
  }
 },
 "nbformat": 4,
 "nbformat_minor": 5
}
