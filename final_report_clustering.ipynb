{
 "cells": [
  {
   "cell_type": "code",
   "execution_count": 1,
   "id": "5d961e04",
   "metadata": {},
   "outputs": [],
   "source": [
    "# imports\n",
    "import numpy as np\n",
    "import pandas as pd\n",
    "import itertools\n",
    "import matplotlib.pyplot as plt\n",
    "import seaborn as sns\n",
    "from scipy import stats\n",
    "from sklearn.model_selection import train_test_split\n",
    "from sklearn.preprocessing import MinMaxScaler, StandardScaler, RobustScaler\n",
    "# local\n",
    "import acquire as a\n",
    "import t_prepare as p"
   ]
  },
  {
   "cell_type": "markdown",
   "id": "e30c1704",
   "metadata": {},
   "source": [
    "### Acquire\n",
    "\n",
    "- Data acquired from data.world\n",
    "- It contained 6497 rows and 13 columns before cleaning\n",
    "- Each row represents a wine tasting from the wine dataset\n",
    "- Each column represents a feature of the wine"
   ]
  },
  {
   "cell_type": "markdown",
   "id": "7c17a39a",
   "metadata": {},
   "source": [
    "### Prepare\n",
    "\n",
    " - Identify nulls/Nan and replace them with the mean or get rid of that column if there are too many nulls/Nans\n",
    " - Identify columns with duplicate values and get rid of them\n",
    " - Change column names to make them readable\n",
    " - Split data between X and Y\n",
    " - Identify outliers, and get rid of them"
   ]
  },
  {
   "cell_type": "markdown",
   "id": "644f1ba9",
   "metadata": {},
   "source": [
    "### Univariate Exploration"
   ]
  },
  {
   "cell_type": "markdown",
   "id": "5b1926d4",
   "metadata": {},
   "source": [
    "### Explore"
   ]
  },
  {
   "cell_type": "code",
   "execution_count": null,
   "id": "aac5a4d4",
   "metadata": {},
   "outputs": [],
   "source": [
    "#Split between train, validate and test\n",
    "train, validate, test = acq.train_split_data(df)"
   ]
  },
  {
   "cell_type": "markdown",
   "id": "ea09f3ac",
   "metadata": {},
   "source": [
    "## Summary of Exploration: \n"
   ]
  },
  {
   "cell_type": "markdown",
   "id": "e0c9a146",
   "metadata": {},
   "source": [
    "## Modeling\n",
    "- RMSE chosen as evaluation metric \n",
    "    - 573364.10 in error, with R2 of 0\n",
    "- Baseline predicition value is $584,945.76."
   ]
  },
  {
   "cell_type": "code",
   "execution_count": null,
   "id": "775c5493",
   "metadata": {},
   "outputs": [],
   "source": []
  },
  {
   "cell_type": "code",
   "execution_count": null,
   "id": "af0abc91",
   "metadata": {},
   "outputs": [],
   "source": []
  },
  {
   "cell_type": "code",
   "execution_count": null,
   "id": "cfe02938",
   "metadata": {},
   "outputs": [],
   "source": []
  },
  {
   "cell_type": "code",
   "execution_count": null,
   "id": "5163b90a",
   "metadata": {},
   "outputs": [],
   "source": []
  }
 ],
 "metadata": {
  "kernelspec": {
   "display_name": "Python 3 (ipykernel)",
   "language": "python",
   "name": "python3"
  },
  "language_info": {
   "codemirror_mode": {
    "name": "ipython",
    "version": 3
   },
   "file_extension": ".py",
   "mimetype": "text/x-python",
   "name": "python",
   "nbconvert_exporter": "python",
   "pygments_lexer": "ipython3",
   "version": "3.9.13"
  }
 },
 "nbformat": 4,
 "nbformat_minor": 5
}
