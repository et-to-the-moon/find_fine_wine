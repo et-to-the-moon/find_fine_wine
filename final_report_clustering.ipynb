{
 "cells": [
  {
   "cell_type": "markdown",
   "id": "8b749aff",
   "metadata": {},
   "source": [
    "# Find Fine Wine\n",
    "- How can you dine without some fine wine?"
   ]
  },
  {
   "cell_type": "markdown",
   "id": "d80a8711",
   "metadata": {},
   "source": [
    "## Goal\n",
    "* Discover drivers of wine quality\n",
    "* Use drivers to develop clusters or groupings\n",
    "* Use drivers and clusters to develop a machine learning model to predict wine quality"
   ]
  },
  {
   "cell_type": "markdown",
   "id": "d5804993",
   "metadata": {},
   "source": [
    "## Imports"
   ]
  },
  {
   "cell_type": "code",
   "execution_count": 1,
   "id": "5d961e04",
   "metadata": {},
   "outputs": [],
   "source": [
    "# local imports\n",
    "import wrangle as w\n",
    "import explore as e\n",
    "import modeling as m"
   ]
  },
  {
   "cell_type": "markdown",
   "id": "e30c1704",
   "metadata": {},
   "source": [
    "### Acquire\n",
    "\n",
    "- Data acquired from data.world\n",
    "- Data initially acquired on 23 May 2023\n",
    "- It contained 6497 rows and 13 columns before cleaning\n",
    "- Each row represents a red or white variant of the Portuguese \"Vinho Verde\" wine\n",
    "- Each column represents a physicochemical property of the wine\n",
    "- Quality (target) is the median of at least 3 evaluations made by wine experts from 0 (very bad) to 10 (very excellent)"
   ]
  },
  {
   "cell_type": "markdown",
   "id": "7c17a39a",
   "metadata": {},
   "source": [
    "### Prepare\n",
    "\n",
    "- Identify and handle Nulls\n",
    "    - No Nulls\n",
    "- Renamed columns for readability\n",
    "- Verified data types\n",
    "- Handle outliers\n",
    "    - residual sugar < 33\n",
    "    - free sulfur dioxide < 280\n",
    "    - chlorides < 0.21\n",
    "- Create custom features\n",
    "- Encode categorical variables\n",
    "- Split data into Train, Validate, Test (approx. 60/20/20)\n",
    "- Scaled using Standard Scaler for clustering and modeling"
   ]
  },
  {
   "cell_type": "code",
   "execution_count": 2,
   "id": "8b72c58c",
   "metadata": {},
   "outputs": [],
   "source": [
    "# acquire, clean, and prepare the data\n",
    "df = w.wrangle_wine()\n",
    "\n",
    "# split into train, validate, and test\n",
    "train, validate, test = w.split_data(df)"
   ]
  },
  {
   "cell_type": "markdown",
   "id": "644f1ba9",
   "metadata": {},
   "source": [
    "#### A brief look at the data"
   ]
  },
  {
   "cell_type": "code",
   "execution_count": 3,
   "id": "f401dafe",
   "metadata": {},
   "outputs": [
    {
     "data": {
      "text/html": [
       "<div>\n",
       "<style scoped>\n",
       "    .dataframe tbody tr th:only-of-type {\n",
       "        vertical-align: middle;\n",
       "    }\n",
       "\n",
       "    .dataframe tbody tr th {\n",
       "        vertical-align: top;\n",
       "    }\n",
       "\n",
       "    .dataframe thead th {\n",
       "        text-align: right;\n",
       "    }\n",
       "</style>\n",
       "<table border=\"1\" class=\"dataframe\">\n",
       "  <thead>\n",
       "    <tr style=\"text-align: right;\">\n",
       "      <th></th>\n",
       "      <th>fixed_acidity</th>\n",
       "      <th>volatile_acidity</th>\n",
       "      <th>citric_acid</th>\n",
       "      <th>residual_sugar</th>\n",
       "      <th>chlorides</th>\n",
       "      <th>free_so2</th>\n",
       "      <th>total_so2</th>\n",
       "      <th>density</th>\n",
       "      <th>pH</th>\n",
       "      <th>sulphates</th>\n",
       "      <th>alcohol</th>\n",
       "      <th>quality</th>\n",
       "      <th>red</th>\n",
       "    </tr>\n",
       "  </thead>\n",
       "  <tbody>\n",
       "    <tr>\n",
       "      <th>4327</th>\n",
       "      <td>6.5</td>\n",
       "      <td>0.35</td>\n",
       "      <td>0.28</td>\n",
       "      <td>12.40</td>\n",
       "      <td>0.051</td>\n",
       "      <td>86.0</td>\n",
       "      <td>213.0</td>\n",
       "      <td>0.9962</td>\n",
       "      <td>3.16</td>\n",
       "      <td>0.51</td>\n",
       "      <td>9.9</td>\n",
       "      <td>6</td>\n",
       "      <td>0</td>\n",
       "    </tr>\n",
       "    <tr>\n",
       "      <th>3599</th>\n",
       "      <td>6.8</td>\n",
       "      <td>0.31</td>\n",
       "      <td>0.09</td>\n",
       "      <td>1.40</td>\n",
       "      <td>0.040</td>\n",
       "      <td>56.0</td>\n",
       "      <td>145.0</td>\n",
       "      <td>0.9922</td>\n",
       "      <td>3.19</td>\n",
       "      <td>0.46</td>\n",
       "      <td>10.0</td>\n",
       "      <td>5</td>\n",
       "      <td>0</td>\n",
       "    </tr>\n",
       "    <tr>\n",
       "      <th>3081</th>\n",
       "      <td>6.7</td>\n",
       "      <td>0.16</td>\n",
       "      <td>0.49</td>\n",
       "      <td>2.40</td>\n",
       "      <td>0.046</td>\n",
       "      <td>57.0</td>\n",
       "      <td>187.0</td>\n",
       "      <td>0.9952</td>\n",
       "      <td>3.62</td>\n",
       "      <td>0.81</td>\n",
       "      <td>10.4</td>\n",
       "      <td>6</td>\n",
       "      <td>0</td>\n",
       "    </tr>\n",
       "    <tr>\n",
       "      <th>1945</th>\n",
       "      <td>5.6</td>\n",
       "      <td>0.34</td>\n",
       "      <td>0.10</td>\n",
       "      <td>1.30</td>\n",
       "      <td>0.031</td>\n",
       "      <td>20.0</td>\n",
       "      <td>68.0</td>\n",
       "      <td>0.9906</td>\n",
       "      <td>3.36</td>\n",
       "      <td>0.51</td>\n",
       "      <td>11.2</td>\n",
       "      <td>7</td>\n",
       "      <td>0</td>\n",
       "    </tr>\n",
       "    <tr>\n",
       "      <th>3648</th>\n",
       "      <td>6.3</td>\n",
       "      <td>0.28</td>\n",
       "      <td>0.24</td>\n",
       "      <td>8.45</td>\n",
       "      <td>0.031</td>\n",
       "      <td>32.0</td>\n",
       "      <td>172.0</td>\n",
       "      <td>0.9958</td>\n",
       "      <td>3.39</td>\n",
       "      <td>0.57</td>\n",
       "      <td>9.7</td>\n",
       "      <td>7</td>\n",
       "      <td>0</td>\n",
       "    </tr>\n",
       "  </tbody>\n",
       "</table>\n",
       "</div>"
      ],
      "text/plain": [
       "      fixed_acidity  volatile_acidity  citric_acid  residual_sugar  chlorides  \\\n",
       "4327            6.5              0.35         0.28           12.40      0.051   \n",
       "3599            6.8              0.31         0.09            1.40      0.040   \n",
       "3081            6.7              0.16         0.49            2.40      0.046   \n",
       "1945            5.6              0.34         0.10            1.30      0.031   \n",
       "3648            6.3              0.28         0.24            8.45      0.031   \n",
       "\n",
       "      free_so2  total_so2  density    pH  sulphates  alcohol  quality  red  \n",
       "4327      86.0      213.0   0.9962  3.16       0.51      9.9        6    0  \n",
       "3599      56.0      145.0   0.9922  3.19       0.46     10.0        5    0  \n",
       "3081      57.0      187.0   0.9952  3.62       0.81     10.4        6    0  \n",
       "1945      20.0       68.0   0.9906  3.36       0.51     11.2        7    0  \n",
       "3648      32.0      172.0   0.9958  3.39       0.57      9.7        7    0  "
      ]
     },
     "execution_count": 3,
     "metadata": {},
     "output_type": "execute_result"
    }
   ],
   "source": [
    "# taking a peek\n",
    "train.head()"
   ]
  },
  {
   "cell_type": "markdown",
   "id": "865016ec",
   "metadata": {},
   "source": [
    "#### Quality Distribution"
   ]
  },
  {
   "cell_type": "code",
   "execution_count": 4,
   "id": "d54355c6",
   "metadata": {
    "scrolled": true
   },
   "outputs": [
    {
     "data": {
      "image/png": "[encoded data removed]",
      "text/plain": [
       "<Figure size 640x480 with 1 Axes>"
      ]
     },
     "metadata": {},
     "output_type": "display_data"
    }
   ],
   "source": [
    "# target distribution\n",
    "e.dist(train)"
   ]
  },
  {
   "cell_type": "markdown",
   "id": "5b1926d4",
   "metadata": {},
   "source": [
    "## Explore\n",
    "- Is there a correlation between wine type (red and white) and quality?\n",
    "- Is there a correlation between "
   ]
  },
  {
   "cell_type": "markdown",
   "id": "b7c8c8c9",
   "metadata": {},
   "source": [
    "### Is there a correlation between ??? and quality?\n",
    "* $H_0$: There is **NO** correlation between wine type and quality\n",
    "* $H_a$: There is a correlation between wine type and quality\n",
    "* Continuous (???) vs Continuous (quality) = $Spearman's R$\n",
    "    - $r$ = \n",
    "    - $p$ = \n",
    "* wine type is correlated with `quality`"
   ]
  },
  {
   "cell_type": "code",
   "execution_count": 5,
   "id": "4870be0e",
   "metadata": {},
   "outputs": [],
   "source": [
    "# explore ??? and quality\n"
   ]
  },
  {
   "cell_type": "markdown",
   "id": "135e0d69",
   "metadata": {},
   "source": [
    "**With an alpha of 0.05 (confidence 95%) the p-value is ??? than alpha. Therefore, evidence suggests that ??? and quality are correlated with each other. I believe that using `???` in the modeling could have a positive impact.**"
   ]
  },
  {
   "cell_type": "markdown",
   "id": "97742fb2",
   "metadata": {},
   "source": [
    "### Is there a correlation between ??? and quality?\n",
    "* $H_0$: There is **NO** correlation between ??? and quality\n",
    "* $H_a$: There is a correlation between ??? and quality\n",
    "* Continuous (???) vs Continuous (quality) = $Spearman's R$\n",
    "    - $r$ = \n",
    "    - $p$ = \n",
    "* `???` is correlated with `quality`"
   ]
  },
  {
   "cell_type": "code",
   "execution_count": null,
   "id": "e9607220",
   "metadata": {},
   "outputs": [],
   "source": [
    "# explore ??? and quality\n"
   ]
  },
  {
   "cell_type": "markdown",
   "id": "ff8b43c4",
   "metadata": {},
   "source": [
    "**With an alpha of 0.05 (confidence 95%) the p-value is ??? than alpha. Therefore, evidence suggests that ??? and quality are correlated with each other. I believe that using `???` in the modeling could have a positive impact.**"
   ]
  },
  {
   "cell_type": "markdown",
   "id": "7b389a26",
   "metadata": {},
   "source": [
    "### Is there a correlation between ??? and quality?\n",
    "* $H_0$: There is **NO** correlation between ??? and quality\n",
    "* $H_a$: There is a correlation between ??? and quality\n",
    "* Continuous (???) vs Continuous (quality) = $Spearman's R$\n",
    "    - $r$ = \n",
    "    - $p$ = \n",
    "* `???` is correlated with `quality`"
   ]
  },
  {
   "cell_type": "code",
   "execution_count": null,
   "id": "fb968d0a",
   "metadata": {},
   "outputs": [],
   "source": [
    "# explore ??? and quality\n"
   ]
  },
  {
   "cell_type": "markdown",
   "id": "636dd83e",
   "metadata": {},
   "source": [
    "**With an alpha of 0.05 (confidence 95%) the p-value is ??? than alpha. Therefore, evidence suggests that ??? and quality are correlated with each other. I believe that using `???` in the modeling could have a positive impact.**"
   ]
  },
  {
   "cell_type": "markdown",
   "id": "58bdbd8e",
   "metadata": {},
   "source": [
    "### Is there a correlation between ??? and quality?\n",
    "* $H_0$: There is **NO** correlation between ??? and quality\n",
    "* $H_a$: There is a correlation between ??? and quality\n",
    "* Continuous (???) vs Continuous (quality) = $Spearman's R$\n",
    "    - $r$ = \n",
    "    - $p$ = \n",
    "* `???` is correlated with `quality`"
   ]
  },
  {
   "cell_type": "code",
   "execution_count": null,
   "id": "0401a264",
   "metadata": {},
   "outputs": [],
   "source": [
    "# explore ??? and quality\n"
   ]
  },
  {
   "cell_type": "markdown",
   "id": "20fd15f1",
   "metadata": {},
   "source": [
    "**With an alpha of 0.05 (confidence 95%) the p-value is ??? than alpha. Therefore, evidence suggests that ??? and quality are correlated with each other. I believe that using `???` in the modeling could have a positive impact.**"
   ]
  },
  {
   "cell_type": "markdown",
   "id": "ea09f3ac",
   "metadata": {},
   "source": [
    "## Exploration Summary \n",
    "- ???"
   ]
  },
  {
   "cell_type": "markdown",
   "id": "0581585a",
   "metadata": {},
   "source": [
    "### Features for Modeling\n",
    "- Features that will be used:\n",
    "    - quality (target)\n",
    "- Some features that may be useful:\n",
    "    - fixed_acidity\n",
    "    - volatile_acidity\n",
    "    - chlorides\n",
    "    - free_so2\n",
    "    - total_so2\n",
    "    - alcohol"
   ]
  },
  {
   "cell_type": "markdown",
   "id": "e0c9a146",
   "metadata": {},
   "source": [
    "## Modeling\n",
    "- RMSE will be the evaluation metric\n",
    "- Target is quality\n",
    "- Using mean of the quality as baseline\n",
    "    - Red baseline: 5.66\n",
    "    - White baseline: 5.88\n",
    "- Features scaled using Standard Scaler\n",
    "- Models will be developed using a few different types, various features, and various hyperparameter configurations\n",
    "    - different models for red and white wines\n",
    "    - Linear Regression\n",
    "    - Polynomial Features through Linear Regression\n",
    "    - Polynomial Features with a KMeans Cluster\n",
    "    - Lasso Lars was worse than baseline so left behind\n",
    "    - Tweedie Regressor (GLM)\n",
    "- Models will be evaluated on Train and Validate\n",
    "- Best performing model will only be evaluated on Test"
   ]
  },
  {
   "cell_type": "code",
   "execution_count": 7,
   "id": "af0abc91",
   "metadata": {},
   "outputs": [
    {
     "name": "stdout",
     "output_type": "stream",
     "text": [
      "Baseline:   Red:  5.66  White: 5.88\n",
      "Train       RMSE: 0.88  RMSE:  0.88\n",
      "Validate    RMSE: 0.87  RMSE:  0.87\n"
     ]
    }
   ],
   "source": [
    "# get baseline\n",
    "m.baseline(train,validate)"
   ]
  },
  {
   "cell_type": "code",
   "execution_count": 6,
   "id": "775c5493",
   "metadata": {},
   "outputs": [],
   "source": [
    "# split into X and y, red and white\n",
    "Xr_train, Xr_val, Xr_test = train[train.red==1].drop(columns=['quality']),validate[validate.red==1].drop(columns=['quality']),test[test.red==1].drop(columns=['quality'])\n",
    "Xw_train, Xw_val, Xw_test = train[train.red==0].drop(columns=['quality']),validate[validate.red==0].drop(columns=['quality']),test[test.red==0].drop(columns=['quality'])\n",
    "yr_train, yr_val, yr_test = train[train.red==1][['quality']],validate[validate.red==1][['quality']],test[test.red==1][['quality']]\n",
    "yw_train, yw_val, yw_test = train[train.red==0][['quality']],validate[validate.red==0][['quality']],test[test.red==0][['quality']]\n",
    "\n",
    "# standard scaler\n",
    "Xrs_train,Xrs_val,Xrs_test = w.std(Xr_train,Xr_val,Xr_test)\n",
    "Xws_train,Xws_val,Xws_test = w.std(Xw_train,Xw_val,Xw_test)"
   ]
  },
  {
   "cell_type": "markdown",
   "id": "cfe02938",
   "metadata": {},
   "source": [
    "### Best 4 Model Configurations"
   ]
  },
  {
   "cell_type": "markdown",
   "id": "fb585bb3",
   "metadata": {},
   "source": [
    "#### Linear Regression"
   ]
  },
  {
   "cell_type": "code",
   "execution_count": null,
   "id": "02769804",
   "metadata": {},
   "outputs": [],
   "source": [
    "# linear regression results\n",
    "m.final_models('lr',Xrs_train,Xws_train,yr_train,yw_train,Xrs_val,Xws_val,yr_val,yw_val)"
   ]
  },
  {
   "cell_type": "markdown",
   "id": "4268498a",
   "metadata": {},
   "source": [
    "#### Polynomial Features"
   ]
  },
  {
   "cell_type": "code",
   "execution_count": null,
   "id": "ed3bb167",
   "metadata": {},
   "outputs": [],
   "source": [
    "# polynomial features results\n",
    "m.final_models('poly',Xrs_train,Xws_train,yr_train,yw_train,Xrs_val,Xws_val,yr_val,yw_val)"
   ]
  },
  {
   "cell_type": "markdown",
   "id": "708e98e8",
   "metadata": {},
   "source": [
    "#### Polynomial Features with a KMeans Cluster"
   ]
  },
  {
   "cell_type": "code",
   "execution_count": null,
   "id": "18f90d2b",
   "metadata": {},
   "outputs": [],
   "source": [
    "# poly cluster results\n",
    "# m.cluster_model(Xrs_train,Xws_train,yr_train,yw_train,Xrs_val,Xws_val,yr_val,yw_val)"
   ]
  },
  {
   "cell_type": "markdown",
   "id": "7052265f",
   "metadata": {},
   "source": [
    "#### Tweedie Regressor"
   ]
  },
  {
   "cell_type": "code",
   "execution_count": null,
   "id": "ce9622f3",
   "metadata": {},
   "outputs": [],
   "source": [
    "# tweedie results\n",
    "m.final_models('tweedie',Xrs_train,Xws_train,yr_train,yw_train,Xrs_val,Xws_val,yr_val,yw_val)"
   ]
  },
  {
   "cell_type": "markdown",
   "id": "8f50e93d",
   "metadata": {},
   "source": [
    "### Best to Test\n",
    "- Polynomial Features for white wine"
   ]
  },
  {
   "cell_type": "code",
   "execution_count": null,
   "id": "8356a271",
   "metadata": {},
   "outputs": [],
   "source": [
    "# best model eval with test data\n",
    "m.test_model(Xrs_train,Xws_train,yr_train,yw_train,Xrs_test,Xws_test,yr_test,yw_test)"
   ]
  },
  {
   "cell_type": "markdown",
   "id": "d6a7f853",
   "metadata": {},
   "source": [
    "#### How does it compare?"
   ]
  },
  {
   "cell_type": "code",
   "execution_count": null,
   "id": "c80d8671",
   "metadata": {},
   "outputs": [],
   "source": [
    "# plot predictions vs actual on test\n",
    "m.plt_err(Xrs_train,Xws_train,yr_train,yw_train,Xrs_test,Xws_test,yr_test,yw_test)"
   ]
  },
  {
   "cell_type": "markdown",
   "id": "e74009ae",
   "metadata": {},
   "source": [
    "### Modeling Wrap Up\n",
    "- ???"
   ]
  },
  {
   "cell_type": "markdown",
   "id": "5f0c3671",
   "metadata": {},
   "source": [
    "## Conclusion\n",
    "\n",
    "### Takeaways and Key Findings\n",
    "- ???\n",
    "\n",
    "### Recommendations and Next Steps\n",
    "- ???\n",
    "- Just go to the store and get some $10 wine since it will probably taste just fine"
   ]
  },
  {
   "cell_type": "markdown",
   "id": "b1e8a437",
   "metadata": {},
   "source": []
  }
 ],
 "metadata": {
  "kernelspec": {
   "display_name": "Python 3 (ipykernel)",
   "language": "python",
   "name": "python3"
  },
  "language_info": {
   "codemirror_mode": {
    "name": "ipython",
    "version": 3
   },
   "file_extension": ".py",
   "mimetype": "text/x-python",
   "name": "python",
   "nbconvert_exporter": "python",
   "pygments_lexer": "ipython3",
   "version": "3.9.13"
  }
 },
 "nbformat": 4,
 "nbformat_minor": 5
}
